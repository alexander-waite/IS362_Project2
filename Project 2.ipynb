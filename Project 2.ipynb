{
 "cells": [
  {
   "cell_type": "code",
   "execution_count": 1,
   "id": "192254e8",
   "metadata": {},
   "outputs": [],
   "source": [
    "import pandas as pd\n",
    "import numpy as np"
   ]
  },
  {
   "cell_type": "markdown",
   "id": "5df6605a",
   "metadata": {},
   "source": [
    "### Dataset 1 - Tuition fee by State "
   ]
  },
  {
   "cell_type": "code",
   "execution_count": 5,
   "id": "edbfeae3",
   "metadata": {},
   "outputs": [],
   "source": [
    "tuition_fee_by_state_data = pd.read_csv('tuitionfeebystate.csv')\n",
    "table_name = tuition_fee_by_state_data.columns[0]"
   ]
  },
  {
   "cell_type": "code",
   "execution_count": 6,
   "id": "d59bb063",
   "metadata": {},
   "outputs": [],
   "source": [
    "tuition_fee_by_state_data = pd.read_csv('tuitionfeebystate.csv',header=1)\n",
    "table_sub_name1 = tuition_fee_by_state_data.columns[1]\n",
    "table_sub_name2 = tuition_fee_by_state_data.columns[17]"
   ]
  },
  {
   "cell_type": "code",
   "execution_count": 7,
   "id": "00149ad1",
   "metadata": {
    "scrolled": false
   },
   "outputs": [
    {
     "ename": "TypeError",
     "evalue": "Index does not support mutable operations",
     "output_type": "error",
     "traceback": [
      "\u001b[0;31m---------------------------------------------------------------------------\u001b[0m",
      "\u001b[0;31mTypeError\u001b[0m                                 Traceback (most recent call last)",
      "\u001b[0;32m/tmp/ipykernel_10089/3913357244.py\u001b[0m in \u001b[0;36m<module>\u001b[0;34m\u001b[0m\n\u001b[1;32m      1\u001b[0m \u001b[0mtuition_fee_by_state_data\u001b[0m \u001b[0;34m=\u001b[0m \u001b[0mpd\u001b[0m\u001b[0;34m.\u001b[0m\u001b[0mread_csv\u001b[0m\u001b[0;34m(\u001b[0m\u001b[0;34m'tuitionfeebystate.csv'\u001b[0m\u001b[0;34m,\u001b[0m\u001b[0mheader\u001b[0m\u001b[0;34m=\u001b[0m\u001b[0;36m2\u001b[0m\u001b[0;34m,\u001b[0m \u001b[0musecols\u001b[0m\u001b[0;34m=\u001b[0m\u001b[0mrange\u001b[0m\u001b[0;34m(\u001b[0m\u001b[0;36m0\u001b[0m\u001b[0;34m,\u001b[0m\u001b[0;36m17\u001b[0m\u001b[0;34m)\u001b[0m\u001b[0;34m)\u001b[0m\u001b[0;34m\u001b[0m\u001b[0;34m\u001b[0m\u001b[0m\n\u001b[0;32m----> 2\u001b[0;31m \u001b[0mtuition_fee_by_state_data\u001b[0m\u001b[0;34m.\u001b[0m\u001b[0mcolumns\u001b[0m\u001b[0;34m[\u001b[0m\u001b[0;36m0\u001b[0m\u001b[0;34m]\u001b[0m\u001b[0;34m=\u001b[0m\u001b[0;34m'States'\u001b[0m\u001b[0;34m\u001b[0m\u001b[0;34m\u001b[0m\u001b[0m\n\u001b[0m\u001b[1;32m      3\u001b[0m \u001b[0mtuition_fee_by_state_data\u001b[0m\u001b[0;34m\u001b[0m\u001b[0;34m\u001b[0m\u001b[0m\n",
      "\u001b[0;32m~/.local/lib/python3.9/site-packages/pandas/core/indexes/base.py\u001b[0m in \u001b[0;36m__setitem__\u001b[0;34m(self, key, value)\u001b[0m\n\u001b[1;32m   4275\u001b[0m     \u001b[0;34m@\u001b[0m\u001b[0mfinal\u001b[0m\u001b[0;34m\u001b[0m\u001b[0;34m\u001b[0m\u001b[0m\n\u001b[1;32m   4276\u001b[0m     \u001b[0;32mdef\u001b[0m \u001b[0m__setitem__\u001b[0m\u001b[0;34m(\u001b[0m\u001b[0mself\u001b[0m\u001b[0;34m,\u001b[0m \u001b[0mkey\u001b[0m\u001b[0;34m,\u001b[0m \u001b[0mvalue\u001b[0m\u001b[0;34m)\u001b[0m\u001b[0;34m:\u001b[0m\u001b[0;34m\u001b[0m\u001b[0;34m\u001b[0m\u001b[0m\n\u001b[0;32m-> 4277\u001b[0;31m         \u001b[0;32mraise\u001b[0m \u001b[0mTypeError\u001b[0m\u001b[0;34m(\u001b[0m\u001b[0;34m\"Index does not support mutable operations\"\u001b[0m\u001b[0;34m)\u001b[0m\u001b[0;34m\u001b[0m\u001b[0;34m\u001b[0m\u001b[0m\n\u001b[0m\u001b[1;32m   4278\u001b[0m \u001b[0;34m\u001b[0m\u001b[0m\n\u001b[1;32m   4279\u001b[0m     \u001b[0;32mdef\u001b[0m \u001b[0m__getitem__\u001b[0m\u001b[0;34m(\u001b[0m\u001b[0mself\u001b[0m\u001b[0;34m,\u001b[0m \u001b[0mkey\u001b[0m\u001b[0;34m)\u001b[0m\u001b[0;34m:\u001b[0m\u001b[0;34m\u001b[0m\u001b[0;34m\u001b[0m\u001b[0m\n",
      "\u001b[0;31mTypeError\u001b[0m: Index does not support mutable operations"
     ]
    }
   ],
   "source": [
    "tuition_fee_by_state_data = pd.read_csv('tuitionfeebystate.csv',header=2, usecols=range(0,17))\n",
    "tuition_fee_by_state_data.columns[0]='States'\n",
    "tuition_fee_by_state_data"
   ]
  },
  {
   "cell_type": "code",
   "execution_count": 8,
   "id": "ac15d8f4",
   "metadata": {
    "scrolled": true
   },
   "outputs": [
    {
     "data": {
      "text/plain": [
       "'Public Two-Year In-District Tuition and Fees'"
      ]
     },
     "execution_count": 8,
     "metadata": {},
     "output_type": "execute_result"
    }
   ],
   "source": [
    "table_sub_name1"
   ]
  },
  {
   "cell_type": "code",
   "execution_count": null,
   "id": "2232127c",
   "metadata": {},
   "outputs": [],
   "source": [
    "tuition_two_year_data = pd.read_csv('tuitionfeebystate.csv',header=2, usecols=range(0,17))\n",
    "tuition_two_year_data.columns = ['States', \n",
    "                                     tuition_two_year_data.columns[1],\n",
    "                                     tuition_two_year_data.columns[2],\n",
    "                                     tuition_two_year_data.columns[3],\n",
    "                                     tuition_two_year_data.columns[4].strip(),\n",
    "                                     tuition_two_year_data.columns[5].strip(),\n",
    "                                     tuition_two_year_data.columns[6].strip(),\n",
    "                                     tuition_two_year_data.columns[7],\n",
    "                                     tuition_two_year_data.columns[8],\n",
    "                                     tuition_two_year_data.columns[9],\n",
    "                                     tuition_two_year_data.columns[10],\n",
    "                                     tuition_two_year_data.columns[11],\n",
    "                                     tuition_two_year_data.columns[12],\n",
    "                                     tuition_two_year_data.columns[13],\n",
    "                                     tuition_two_year_data.columns[14],\n",
    "                                     tuition_two_year_data.columns[15],\n",
    "                                     tuition_two_year_data.columns[16],\n",
    "                                    ]\n",
    "tuition_two_year_data.name = table_sub_name1\n",
    "tuition_two_year_data.drop(axis=0,index=0)\n",
    "pass"
   ]
  },
  {
   "cell_type": "code",
   "execution_count": null,
   "id": "8c67540e",
   "metadata": {},
   "outputs": [],
   "source": [
    "table_sub_name2"
   ]
  },
  {
   "cell_type": "code",
   "execution_count": null,
   "id": "6f3cdd72",
   "metadata": {},
   "outputs": [],
   "source": [
    "tuition_fee_by_state_data.shape"
   ]
  },
  {
   "cell_type": "code",
   "execution_count": null,
   "id": "d905dad7",
   "metadata": {
    "scrolled": true
   },
   "outputs": [],
   "source": [
    "tuition_fee_by_state_data"
   ]
  },
  {
   "cell_type": "code",
   "execution_count": null,
   "id": "2b4cefaa",
   "metadata": {},
   "outputs": [],
   "source": []
  },
  {
   "cell_type": "code",
   "execution_count": null,
   "id": "7b2277e4",
   "metadata": {},
   "outputs": [],
   "source": [
    "lst =[0]\n",
    "[lst.append(x) for x in range(18,34)]\n",
    "tuition_four_year_data = pd.read_csv('tuitionfeebystate.csv',header=2, usecols=lst)\n",
    "tuition_four_year_data.columns = ['States', \n",
    "                                     tuition_four_year_data.columns[1][:-2],\n",
    "                                     tuition_four_year_data.columns[2][:-2],\n",
    "                                     tuition_four_year_data.columns[3][:-2].strip(),\n",
    "                                     tuition_four_year_data.columns[4][:-2].strip(),\n",
    "                                     tuition_four_year_data.columns[5][:-2].strip(),\n",
    "                                     tuition_four_year_data.columns[6][:-2].strip(),\n",
    "                                     tuition_four_year_data.columns[7][:-2],\n",
    "                                     tuition_four_year_data.columns[8][:-2],\n",
    "                                     tuition_four_year_data.columns[9][:-2],\n",
    "                                     tuition_four_year_data.columns[10][:-2],\n",
    "                                     tuition_four_year_data.columns[11][:-2],\n",
    "                                     tuition_four_year_data.columns[12][:-2],\n",
    "                                     tuition_four_year_data.columns[13][:-2],\n",
    "                                     tuition_four_year_data.columns[14][:-2],\n",
    "                                     tuition_four_year_data.columns[15][:-2],\n",
    "                                     tuition_four_year_data.columns[16][:-2],\n",
    "                                    ]\n",
    "tuition_four_year_data.name = table_sub_name2\n",
    "tuition_four_year_data.drop(axis=0,index=0)\n",
    "pass"
   ]
  },
  {
   "cell_type": "markdown",
   "id": "0aeb7dd3",
   "metadata": {},
   "source": [
    "#### Convert 2 year and 4 year dataframes to numeric values for columns that can be changed"
   ]
  },
  {
   "cell_type": "markdown",
   "id": "66ca1cc8",
   "metadata": {},
   "source": [
    "#### Some clever iterrows that uses the current index to rewrite values so that we may convert them to numeric"
   ]
  },
  {
   "cell_type": "markdown",
   "id": "f7081045",
   "metadata": {},
   "source": [
    "#### Convert 2 year and 4 year dataframes to numeric values for columns that can be changed"
   ]
  },
  {
   "cell_type": "code",
   "execution_count": null,
   "id": "fc36e20f",
   "metadata": {},
   "outputs": [],
   "source": [
    "for index,row in tuition_two_year_data.iterrows():\n",
    "    tuition_two_year_data.loc[index] = row.str.replace('$','').str.replace(',','').str.replace('%','')\n",
    "tuition_two_year_data.head()"
   ]
  },
  {
   "cell_type": "code",
   "execution_count": null,
   "id": "499e424c",
   "metadata": {},
   "outputs": [],
   "source": [
    "cols = tuition_two_year_data.columns.drop(labels='States')\n",
    "tuition_two_year_data[cols] = tuition_two_year_data[cols].apply(pd.to_numeric, errors='coerce')\n",
    "tuition_two_year_data"
   ]
  },
  {
   "cell_type": "code",
   "execution_count": null,
   "id": "a40c1582",
   "metadata": {},
   "outputs": [],
   "source": [
    "tuition_two_year_data.dtypes"
   ]
  },
  {
   "cell_type": "code",
   "execution_count": null,
   "id": "83252b5a",
   "metadata": {},
   "outputs": [],
   "source": [
    "tuition_two_year_data = tuition_two_year_data.apply(pd.to_numeric, errors='coerce').fillna(0)"
   ]
  },
  {
   "cell_type": "markdown",
   "id": "8b99c156",
   "metadata": {},
   "source": [
    "#### Convert 2 year and 4 year dataframes to numeric values for columns that can be changed"
   ]
  },
  {
   "cell_type": "code",
   "execution_count": null,
   "id": "e7e20008",
   "metadata": {},
   "outputs": [],
   "source": [
    "tuition_two_year_data = tuition_two_year_data.apply(pd.to_numeric)\n",
    "tuition_four_year_data = tuition_four_year_data.apply(pd.to_numeric, errors='ignore')"
   ]
  },
  {
   "cell_type": "markdown",
   "id": "080c400c",
   "metadata": {},
   "source": [
    "### Dataset 2 - Unemployment Data"
   ]
  },
  {
   "cell_type": "code",
   "execution_count": null,
   "id": "d8d6f82a",
   "metadata": {},
   "outputs": [],
   "source": [
    "unemployment_data = pd.read_csv('unemploymentdata.csv')"
   ]
  },
  {
   "cell_type": "markdown",
   "id": "562a7318",
   "metadata": {},
   "source": [
    "### Dataset 3 - Untidy.csv"
   ]
  },
  {
   "cell_type": "code",
   "execution_count": null,
   "id": "413d43e1",
   "metadata": {},
   "outputs": [],
   "source": [
    "untidy_data = pd.read_csv('untidy.csv')"
   ]
  },
  {
   "cell_type": "code",
   "execution_count": null,
   "id": "894252e3",
   "metadata": {},
   "outputs": [],
   "source": []
  },
  {
   "cell_type": "code",
   "execution_count": null,
   "id": "d3bb6e19",
   "metadata": {},
   "outputs": [],
   "source": [
    "tuition_fee_by_state_data = pd.read_csv('tuitionfeebystate.csv',header=2, usecols=range(0,17))\n",
    "tuition_fee_by_state_data.columns[0] = ['States', \n",
    "                                     tuition_fee_by_state_data.[1],\n",
    "                                     tuition_fee_by_state_data[2],\n",
    "                                     tuition_fee_by_state_data[3],\n",
    "                                     tuition_fee_by_state_data[4],\n",
    "                                     tuition_fee_by_state_data[5],\n",
    "                                     tuition_fee_by_state_data[6],\n",
    "                                     tuition_fee_by_state_data[7],\n",
    "                                     tuition_fee_by_state_data[8],\n",
    "                                     tuition_fee_by_state_data[9],\n",
    "                                     tuition_fee_by_state_data[10],\n",
    "                                     tuition_fee_by_state_data[11],\n",
    "                                     tuition_fee_by_state_data[12],\n",
    "                                     tuition_fee_by_state_data[13],\n",
    "                                     tuition_fee_by_state_data[14],\n",
    "                                     tuition_fee_by_state_data[15],\n",
    "                                     tuition_fee_by_state_data[16],\n",
    "                                    ]\n",
    "tuition_fee_by_state_data.drop(axis=0,index=0)"
   ]
  },
  {
   "cell_type": "code",
   "execution_count": null,
   "id": "587a4283",
   "metadata": {},
   "outputs": [],
   "source": [
    "tuition_fee_by_state_data = pd.read_csv('tuitionfeebystate.csv',header=2, usecols=range(0,17))\n",
    "tuition_fee_by_state_data.columns[0] = ['States', \n",
    "                                     tuition_fee_by_state_data.[1],\n",
    "                                     tuition_fee_by_state_data[2],\n",
    "                                     tuition_fee_by_state_data[3],\n",
    "                                     tuition_fee_by_state_data[4],\n",
    "                                     tuition_fee_by_state_data[5],\n",
    "                                     tuition_fee_by_state_data[6],\n",
    "                                     tuition_fee_by_state_data[7],\n",
    "                                     tuition_fee_by_state_data[8],\n",
    "                                     tuition_fee_by_state_data[9],\n",
    "                                     tuition_fee_by_state_data[10],\n",
    "                                     tuition_fee_by_state_data[11],\n",
    "                                     tuition_fee_by_state_data[12],\n",
    "                                     tuition_fee_by_state_data[13],\n",
    "                                     tuition_fee_by_state_data[14],\n",
    "                                     tuition_fee_by_state_data[15],\n",
    "                                     tuition_fee_by_state_data[16],\n",
    "                                    ]\n",
    "tuition_fee_by_state_data.drop(axis=0,index=0)"
   ]
  },
  {
   "cell_type": "code",
   "execution_count": null,
   "id": "aeb94da0",
   "metadata": {},
   "outputs": [],
   "source": []
  },
  {
   "cell_type": "code",
   "execution_count": null,
   "id": "a1c42063",
   "metadata": {},
   "outputs": [],
   "source": [
    "tuition_fee_by_state_data = pd.read_csv('tuitionfeebystate.csv',header=2, usecols=range(0,17))\n",
    "tuition_fee_by_state_data.columns[0] = ['States', \n",
    "                                     tuition_fee_by_state_data.[1],\n",
    "                                     tuition_fee_by_state_data[2],\n",
    "                                     tuition_fee_by_state_data[3],\n",
    "                                     tuition_fee_by_state_data[4],\n",
    "                                     tuition_fee_by_state_data[5],\n",
    "                                     tuition_fee_by_state_data[6],\n",
    "                                     tuition_fee_by_state_data[7],\n",
    "                                     tuition_fee_by_state_data[8],\n",
    "                                     tuition_fee_by_state_data[9],\n",
    "                                     tuition_fee_by_state_data[10],\n",
    "                                     tuition_fee_by_state_data[11],\n",
    "                                     tuition_fee_by_state_data[12],\n",
    "                                     tuition_fee_by_state_data[13],\n",
    "                                     tuition_fee_by_state_data[14],\n",
    "                                     tuition_fee_by_state_data[15],\n",
    "                                     tuition_fee_by_state_data[16],\n",
    "                                    ]\n",
    "tuition_fee_by_state_data.drop(axis=0,index=0)"
   ]
  },
  {
   "cell_type": "code",
   "execution_count": null,
   "id": "b10a57aa",
   "metadata": {},
   "outputs": [],
   "source": []
  },
  {
   "cell_type": "code",
   "execution_count": null,
   "id": "b71595f8",
   "metadata": {},
   "outputs": [],
   "source": []
  }
 ],
 "metadata": {
  "kernelspec": {
   "display_name": "Python 3 (ipykernel)",
   "language": "python",
   "name": "python3"
  },
  "language_info": {
   "codemirror_mode": {
    "name": "ipython",
    "version": 3
   },
   "file_extension": ".py",
   "mimetype": "text/x-python",
   "name": "python",
   "nbconvert_exporter": "python",
   "pygments_lexer": "ipython3",
   "version": "3.9.7"
  }
 },
 "nbformat": 4,
 "nbformat_minor": 5
}
